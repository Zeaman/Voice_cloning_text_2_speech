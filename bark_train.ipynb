{
 "cells": [
  {
   "cell_type": "code",
   "execution_count": null,
   "metadata": {},
   "outputs": [],
   "source": [
    "'''Required libraries to be installed\n",
    "-pip install pyaudio\n",
    "-pip install bark torch transformers torchaudio\n",
    "-pip install transformers\n",
    "-pip install bark\n",
    "-pip install git+https://github.com/suno-ai/bark.git\n",
    "-pip install soundfile\n",
    "-pip install --upgrade jupyter ipywidgets\n",
    "-jupyter nbextension enable --py widgetsnbextension\n",
    "\n",
    "\n",
    "'''"
   ]
  },
  {
   "cell_type": "code",
   "execution_count": 1,
   "metadata": {},
   "outputs": [],
   "source": [
    "#Import required dependencies\n",
    "from IPython.display import Audio\n",
    "from bark.api import generate_audio\n",
    "from transformers import BertTokenizer\n",
    "from scipy.io.wavfile import write as write_wav\n",
    "from bark.generation import SAMPLE_RATE, preload_models, codec_decode, generate_coarse, generate_fine, generate_text_semantic"
   ]
  },
  {
   "cell_type": "code",
   "execution_count": 2,
   "metadata": {},
   "outputs": [],
   "source": [
    "# Enter your prompt and speaker here\n",
    "text_prompt = \"Hello, my name is Serpy. And, uh — and I like pizza. [laughs]\"\n",
    "voice_name = \"speaker_0\" # use your custom voice name here if you have one"
   ]
  },
  {
   "cell_type": "code",
   "execution_count": 3,
   "metadata": {},
   "outputs": [],
   "source": [
    "# load the tokenizer\n",
    "tokenizer = BertTokenizer.from_pretrained(\"bert-base-multilingual-cased\")"
   ]
  },
  {
   "cell_type": "code",
   "execution_count": 5,
   "metadata": {},
   "outputs": [
    {
     "data": {
      "application/vnd.jupyter.widget-view+json": {
       "model_id": "aa14c8e4370845999a1e19e9c2e8d79d",
       "version_major": 2,
       "version_minor": 0
      },
      "text/plain": [
       "Downloading text_2.pt:   0%|          | 0.00/5.35G [00:00<?, ?B/s]"
      ]
     },
     "metadata": {},
     "output_type": "display_data"
    },
    {
     "name": "stderr",
     "output_type": "stream",
     "text": [
      "d:\\AI\\voice_text\\bark_svc\\lib\\site-packages\\huggingface_hub\\file_download.py:133: UserWarning: `huggingface_hub` cache-system uses symlinks by default to efficiently store duplicated files but your machine does not support them in C:\\Users\\HP. Caching files will still work but in a degraded version that might require more space on your disk. This warning can be disabled by setting the `HF_HUB_DISABLE_SYMLINKS_WARNING` environment variable. For more details, see https://huggingface.co/docs/huggingface_hub/how-to-cache#limitations.\n",
      "To support symlinks on Windows, you either need to activate Developer Mode or to run Python as an administrator. In order to see activate developer mode, see this article: https://docs.microsoft.com/en-us/windows/apps/get-started/enable-your-device-for-development\n",
      "  warnings.warn(message)\n"
     ]
    }
   ],
   "source": [
    "# download and load all models\n",
    "preload_models(\n",
    "    text_use_gpu=False,  # Set to False for CPU-only\n",
    "    text_use_small=False,\n",
    "    coarse_use_gpu=False,  # Set to False for CPU-only\n",
    "    coarse_use_small=False,\n",
    "    fine_use_gpu=False,  # Set to False for CPU-only\n",
    "    fine_use_small=False,\n",
    "    codec_use_gpu=False,  # Set to False for CPU-only\n",
    "    force_reload=False\n",
    ")\n"
   ]
  },
  {
   "cell_type": "code",
   "execution_count": null,
   "metadata": {},
   "outputs": [],
   "source": [
    "# simple generation\n",
    "audio_array = generate_audio(text_prompt, history_prompt=voice_name, text_temp=0.7, waveform_temp=0.7)"
   ]
  },
  {
   "cell_type": "code",
   "execution_count": null,
   "metadata": {},
   "outputs": [],
   "source": [
    "# generation with more control\n",
    "x_semantic = generate_text_semantic(\n",
    "    text_prompt,\n",
    "    history_prompt=voice_name,\n",
    "    temp=0.7,\n",
    "    top_k=50,\n",
    "    top_p=0.95,\n",
    ")\n",
    "\n",
    "x_coarse_gen = generate_coarse(\n",
    "    x_semantic,\n",
    "    history_prompt=voice_name,\n",
    "    temp=0.7,\n",
    "    top_k=50,\n",
    "    top_p=0.95,\n",
    ")\n",
    "x_fine_gen = generate_fine(\n",
    "    x_coarse_gen,\n",
    "    history_prompt=voice_name,\n",
    "    temp=0.5,\n",
    ")\n",
    "audio_array = codec_decode(x_fine_gen)"
   ]
  },
  {
   "cell_type": "code",
   "execution_count": null,
   "metadata": {},
   "outputs": [],
   "source": [
    "# play audio\n",
    "Audio(audio_array, rate=SAMPLE_RATE)"
   ]
  },
  {
   "cell_type": "code",
   "execution_count": null,
   "metadata": {},
   "outputs": [],
   "source": [
    "# save audio\n",
    "filepath = \"/output/audio.wav\" # change this to your desired output path\n",
    "write_wav(filepath, SAMPLE_RATE, audio_array)"
   ]
  },
  {
   "cell_type": "code",
   "execution_count": null,
   "metadata": {},
   "outputs": [],
   "source": []
  },
  {
   "attachments": {},
   "cell_type": "markdown",
   "metadata": {},
   "source": [
    "### USE for sample renaming"
   ]
  },
  {
   "cell_type": "code",
   "execution_count": 5,
   "metadata": {},
   "outputs": [
    {
     "name": "stdout",
     "output_type": "stream",
     "text": [
      "Destination file 'D:/AI/voice_text/samples\\Sample_3.wav' already exists. Skipping renaming for 'D:/AI/voice_text/samples\\Sample_10.wav'.\n",
      "Destination file 'D:/AI/voice_text/samples\\Sample_4.wav' already exists. Skipping renaming for 'D:/AI/voice_text/samples\\Sample_3.wav'.\n",
      "Destination file 'D:/AI/voice_text/samples\\Sample_5.wav' already exists. Skipping renaming for 'D:/AI/voice_text/samples\\Sample_4.wav'.\n",
      "Destination file 'D:/AI/voice_text/samples\\Sample_6.wav' already exists. Skipping renaming for 'D:/AI/voice_text/samples\\Sample_5.wav'.\n",
      "Destination file 'D:/AI/voice_text/samples\\Sample_7.wav' already exists. Skipping renaming for 'D:/AI/voice_text/samples\\Sample_6.wav'.\n",
      "Destination file 'D:/AI/voice_text/samples\\Sample_8.wav' already exists. Skipping renaming for 'D:/AI/voice_text/samples\\Sample_7.wav'.\n",
      "Destination file 'D:/AI/voice_text/samples\\Sample_9.wav' already exists. Skipping renaming for 'D:/AI/voice_text/samples\\Sample_8.wav'.\n",
      "Destination file 'D:/AI/voice_text/samples\\Sample_10.wav' already exists. Skipping renaming for 'D:/AI/voice_text/samples\\Sample_9.wav'.\n",
      "All WAV files have been renamed.\n"
     ]
    }
   ],
   "source": [
    "import os\n",
    "\n",
    "# Get the directory to rename the files in\n",
    "directory = \"D:/AI/voice_text/samples\"\n",
    "\n",
    "# Get all the WAV files in the directory\n",
    "wav_files = [file for file in os.listdir(directory) if file.endswith(\".wav\")]\n",
    "\n",
    "# Rename each WAV file to \"Sample_\" followed by its index\n",
    "for i, wav_file in enumerate(wav_files):\n",
    "    source_path = os.path.join(directory, wav_file)\n",
    "    destination_path = os.path.join(directory, \"Sample_\" + str(i + 1) + \".wav\")\n",
    "    \n",
    "    # Check if the destination file already exists\n",
    "    if os.path.exists(destination_path):\n",
    "        print(f\"Destination file '{destination_path}' already exists. Skipping renaming for '{source_path}'.\")\n",
    "    else:\n",
    "        os.rename(source_path, destination_path)\n",
    "\n",
    "print(\"All WAV files have been renamed.\")\n"
   ]
  }
 ],
 "metadata": {
  "kernelspec": {
   "display_name": "bark_svc",
   "language": "python",
   "name": "python3"
  },
  "language_info": {
   "codemirror_mode": {
    "name": "ipython",
    "version": 3
   },
   "file_extension": ".py",
   "mimetype": "text/x-python",
   "name": "python",
   "nbconvert_exporter": "python",
   "pygments_lexer": "ipython3",
   "version": "3.9.7"
  },
  "orig_nbformat": 4
 },
 "nbformat": 4,
 "nbformat_minor": 2
}
